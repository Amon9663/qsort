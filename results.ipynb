{
 "cells": [
  {
   "cell_type": "markdown",
   "metadata": {},
   "source": [
    "# Quicksort \n",
    "\n",
    "\n",
    "\n",
    "- - -\n",
    "\n"
   ]
  },
  {
   "cell_type": "code",
   "execution_count": 13,
   "metadata": {},
   "outputs": [],
   "source": [
    "# For plotting and other good stuff\n",
    "import matplotlib.pyplot as plt, numpy as np, pandas as pd \n",
    "from math import log2 as log"
   ]
  },
  {
   "cell_type": "markdown",
   "metadata": {},
   "source": [
    "## Theorectical results\n",
    "\n",
    "### Average Case \n",
    "\n",
    "Quicksort uses $\\Theta(n\\log n)$ comparisons in the average case\n",
    "\n",
    "\n",
    "### Worst case \n",
    "\n",
    "Quicksort uses $\\Theta(n^{2})$ comparisons in the average case\n",
    "\n"
   ]
  },
  {
   "cell_type": "markdown",
   "metadata": {},
   "source": [
    "- - -\n",
    "\n",
    "## Empirical Results \n",
    "\n",
    "### Average Case (Setup)"
   ]
  },
  {
   "cell_type": "code",
   "execution_count": null,
   "metadata": {},
   "outputs": [],
   "source": [
    "adf = pd.read_csv('avg-data.csv', index_col='Size') \n",
    "adf                                               "
   ]
  },
  {
   "cell_type": "code",
   "execution_count": null,
   "metadata": {},
   "outputs": [],
   "source": [
    "plt_x = [x for x in adf.index ]                      # prepare data for x axis\n",
    "plt_ya = [adf.loc[y].mean(axis=0) for y in plt_x]     # prepare data for y axis\n",
    "linearithmic_y = [y * log(y) for y in plt_x] \n",
    "quadratic_y = [y*y for y in plt_x]     "
   ]
  },
  {
   "cell_type": "markdown",
   "metadata": {},
   "source": [
    "### Average Case (Results)"
   ]
  },
  {
   "cell_type": "code",
   "execution_count": null,
   "metadata": {},
   "outputs": [],
   "source": [
    "fig = plt.figure(figsize=(12,8))\n",
    "axes = fig.add_subplot(111) # 111 means working with one chart (whatever that means!!)\n",
    "\n",
    "axes.plot(plt_x,plt_ya, label='Quicksort')\n",
    "axex.plot(plt_x, linearithmic_y, label='$n\\log n$')\n",
    "plt.legend(bbox_to_anchor=(1.05, 1), loc=2, borderaxespad=0.)\n",
    "\n",
    "axes.set_title('Quicksort Average Count Data')\n",
    "axes.set_xlabel('Input size $n$')\n",
    "axes.set_ylabel('Count')"
   ]
  },
  {
   "cell_type": "markdown",
   "metadata": {},
   "source": [
    "- - -\n",
    "\n",
    "\n",
    "### Worst Case (Setup)"
   ]
  },
  {
   "cell_type": "code",
   "execution_count": null,
   "metadata": {},
   "outputs": [],
   "source": [
    "wdf = pd.read_csv('worst-data.csv', index_col='Size') \n",
    "wdf                                               "
   ]
  },
  {
   "cell_type": "code",
   "execution_count": null,
   "metadata": {},
   "outputs": [],
   "source": [
    "plt_yw = [wdf.loc[y].mean(axis=0) for y in plt_x]     # prepare data for y axis  "
   ]
  },
  {
   "cell_type": "markdown",
   "metadata": {},
   "source": [
    "### Wort Case (Results)"
   ]
  },
  {
   "cell_type": "code",
   "execution_count": null,
   "metadata": {},
   "outputs": [],
   "source": [
    "fig2 = plt.figure(figsize=(12,8))\n",
    "axes2 = fig2.add_subplot(111) # 111 means working with one chart (whatever that means!!)\n",
    "\n",
    "axes2.plot(plt_x,plt_yw, label='Quicksort')\n",
    "axex2.plot(plt_x, quadratic_y, label='$n^{2}$')\n",
    "plt.legend(bbox_to_anchor=(1.05, 1), loc=2, borderaxespad=0.)\n",
    "\n",
    "axes2.set_title('Quicksort Worst-Case Count Data')\n",
    "axes2.set_xlabel('Input size $n$')\n",
    "axes2.set_ylabel('Count')"
   ]
  }
 ],
 "metadata": {
  "kernelspec": {
   "display_name": "Python 3",
   "language": "python",
   "name": "python3"
  },
  "language_info": {
   "codemirror_mode": {
    "name": "ipython",
    "version": 3
   },
   "file_extension": ".py",
   "mimetype": "text/x-python",
   "name": "python",
   "nbconvert_exporter": "python",
   "pygments_lexer": "ipython3",
   "version": "3.6.6"
  }
 },
 "nbformat": 4,
 "nbformat_minor": 2
}
